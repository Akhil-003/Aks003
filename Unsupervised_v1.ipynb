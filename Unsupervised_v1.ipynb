{
 "cells": [
  {
   "cell_type": "code",
   "execution_count": 1,
   "metadata": {},
   "outputs": [],
   "source": [
    "import numpy as np\n",
    "import pandas as pd\n",
    "import matplotlib.pyplot as plt\n",
    "import seaborn as sn\n",
    "from sklearn.cluster import KMeans\n",
    "%matplotlib inline"
   ]
  },
  {
   "cell_type": "code",
   "execution_count": 2,
   "metadata": {},
   "outputs": [],
   "source": [
    "from sklearn.preprocessing import LabelEncoder\n",
    "from sklearn.linear_model import SGDClassifier\n",
    "from sklearn.metrics import classification_report\n",
    "from sklearn.model_selection import train_test_split\n",
    "from imutils import paths\n",
    "import numpy as np\n",
    "import argparse\n",
    "import imutils\n",
    "import cv2\n",
    "import os"
   ]
  },
  {
   "cell_type": "code",
   "execution_count": 55,
   "metadata": {},
   "outputs": [
    {
     "name": "stdout",
     "output_type": "stream",
     "text": [
      "Collecting random\n",
      "Note: you may need to restart the kernel to use updated packages.\n"
     ]
    },
    {
     "name": "stderr",
     "output_type": "stream",
     "text": [
      "  WARNING: Retrying (Retry(total=4, connect=None, read=None, redirect=None, status=None)) after connection broken by 'NewConnectionError('<pip._vendor.urllib3.connection.VerifiedHTTPSConnection object at 0x0000029C7698B6D8>: Failed to establish a new connection: [Errno 11001] getaddrinfo failed')': /simple/random/\n",
      "  WARNING: Retrying (Retry(total=3, connect=None, read=None, redirect=None, status=None)) after connection broken by 'NewConnectionError('<pip._vendor.urllib3.connection.VerifiedHTTPSConnection object at 0x0000029C7698B978>: Failed to establish a new connection: [Errno 11001] getaddrinfo failed')': /simple/random/\n",
      "  WARNING: Retrying (Retry(total=2, connect=None, read=None, redirect=None, status=None)) after connection broken by 'NewConnectionError('<pip._vendor.urllib3.connection.VerifiedHTTPSConnection object at 0x0000029C7698B908>: Failed to establish a new connection: [Errno 11001] getaddrinfo failed')': /simple/random/\n",
      "  WARNING: Retrying (Retry(total=1, connect=None, read=None, redirect=None, status=None)) after connection broken by 'NewConnectionError('<pip._vendor.urllib3.connection.VerifiedHTTPSConnection object at 0x0000029C7698B7F0>: Failed to establish a new connection: [Errno 11001] getaddrinfo failed')': /simple/random/\n",
      "  WARNING: Retrying (Retry(total=0, connect=None, read=None, redirect=None, status=None)) after connection broken by 'NewConnectionError('<pip._vendor.urllib3.connection.VerifiedHTTPSConnection object at 0x0000029C7698BD68>: Failed to establish a new connection: [Errno 11001] getaddrinfo failed')': /simple/random/\n",
      "  ERROR: Could not find a version that satisfies the requirement random (from versions: none)\n",
      "ERROR: No matching distribution found for random\n"
     ]
    }
   ],
   "source": [
    "pip install random "
   ]
  },
  {
   "cell_type": "code",
   "execution_count": 3,
   "metadata": {},
   "outputs": [
    {
     "data": {
      "text/html": [
       "<div>\n",
       "<style scoped>\n",
       "    .dataframe tbody tr th:only-of-type {\n",
       "        vertical-align: middle;\n",
       "    }\n",
       "\n",
       "    .dataframe tbody tr th {\n",
       "        vertical-align: top;\n",
       "    }\n",
       "\n",
       "    .dataframe thead th {\n",
       "        text-align: right;\n",
       "    }\n",
       "</style>\n",
       "<table border=\"1\" class=\"dataframe\">\n",
       "  <thead>\n",
       "    <tr style=\"text-align: right;\">\n",
       "      <th></th>\n",
       "      <th>rosbagtimestamp</th>\n",
       "      <th>seq</th>\n",
       "      <th>secs</th>\n",
       "      <th>nsecs</th>\n",
       "      <th>xl</th>\n",
       "      <th>yl</th>\n",
       "      <th>zl</th>\n",
       "      <th>normality</th>\n",
       "    </tr>\n",
       "  </thead>\n",
       "  <tbody>\n",
       "    <tr>\n",
       "      <th>0</th>\n",
       "      <td>1.570000e+18</td>\n",
       "      <td>53</td>\n",
       "      <td>1574069785</td>\n",
       "      <td>858138123</td>\n",
       "      <td>-0.137454</td>\n",
       "      <td>0.184408</td>\n",
       "      <td>0</td>\n",
       "      <td>1</td>\n",
       "    </tr>\n",
       "    <tr>\n",
       "      <th>1</th>\n",
       "      <td>1.570000e+18</td>\n",
       "      <td>54</td>\n",
       "      <td>1574069786</td>\n",
       "      <td>110338604</td>\n",
       "      <td>-0.251003</td>\n",
       "      <td>0.336746</td>\n",
       "      <td>0</td>\n",
       "      <td>1</td>\n",
       "    </tr>\n",
       "    <tr>\n",
       "      <th>2</th>\n",
       "      <td>1.570000e+18</td>\n",
       "      <td>55</td>\n",
       "      <td>1574069786</td>\n",
       "      <td>356408699</td>\n",
       "      <td>-0.107573</td>\n",
       "      <td>0.144320</td>\n",
       "      <td>0</td>\n",
       "      <td>1</td>\n",
       "    </tr>\n",
       "    <tr>\n",
       "      <th>3</th>\n",
       "      <td>1.570000e+18</td>\n",
       "      <td>56</td>\n",
       "      <td>1574069786</td>\n",
       "      <td>578747487</td>\n",
       "      <td>-0.155383</td>\n",
       "      <td>0.208462</td>\n",
       "      <td>0</td>\n",
       "      <td>1</td>\n",
       "    </tr>\n",
       "    <tr>\n",
       "      <th>4</th>\n",
       "      <td>1.570000e+18</td>\n",
       "      <td>57</td>\n",
       "      <td>1574069786</td>\n",
       "      <td>823320336</td>\n",
       "      <td>-0.011953</td>\n",
       "      <td>0.016036</td>\n",
       "      <td>0</td>\n",
       "      <td>1</td>\n",
       "    </tr>\n",
       "  </tbody>\n",
       "</table>\n",
       "</div>"
      ],
      "text/plain": [
       "   rosbagtimestamp  seq        secs      nsecs        xl        yl  zl  \\\n",
       "0     1.570000e+18   53  1574069785  858138123 -0.137454  0.184408   0   \n",
       "1     1.570000e+18   54  1574069786  110338604 -0.251003  0.336746   0   \n",
       "2     1.570000e+18   55  1574069786  356408699 -0.107573  0.144320   0   \n",
       "3     1.570000e+18   56  1574069786  578747487 -0.155383  0.208462   0   \n",
       "4     1.570000e+18   57  1574069786  823320336 -0.011953  0.016036   0   \n",
       "\n",
       "   normality  \n",
       "0          1  \n",
       "1          1  \n",
       "2          1  \n",
       "3          1  \n",
       "4          1  "
      ]
     },
     "execution_count": 3,
     "metadata": {},
     "output_type": "execute_result"
    }
   ],
   "source": [
    "dataset=pd.read_csv('C:/Users/Akhil.pathak/Desktop/Study_Material/VIT/SPCUP-2020/_slash_mavros_slash_global_position_slash_raw_slash_gps_vel.csv')\n",
    "dataset.columns = dataset.columns.str.lower().str.replace(' ', '_')\n",
    "dataset.head()\n",
    "if set(['date']).issubset(dataset.columns):\n",
    "    dataset.drop(['date'],axis=1, inplace=True)\n",
    "    \n",
    "dataset.head()"
   ]
  },
  {
   "cell_type": "code",
   "execution_count": 4,
   "metadata": {
    "scrolled": true
   },
   "outputs": [
    {
     "data": {
      "text/html": [
       "<div>\n",
       "<style scoped>\n",
       "    .dataframe tbody tr th:only-of-type {\n",
       "        vertical-align: middle;\n",
       "    }\n",
       "\n",
       "    .dataframe tbody tr th {\n",
       "        vertical-align: top;\n",
       "    }\n",
       "\n",
       "    .dataframe thead th {\n",
       "        text-align: right;\n",
       "    }\n",
       "</style>\n",
       "<table border=\"1\" class=\"dataframe\">\n",
       "  <thead>\n",
       "    <tr style=\"text-align: right;\">\n",
       "      <th></th>\n",
       "      <th>rosbagtimestamp</th>\n",
       "      <th>seq</th>\n",
       "      <th>secs</th>\n",
       "      <th>nsecs</th>\n",
       "      <th>xl</th>\n",
       "      <th>yl</th>\n",
       "      <th>zl</th>\n",
       "      <th>normality</th>\n",
       "    </tr>\n",
       "  </thead>\n",
       "  <tbody>\n",
       "    <tr>\n",
       "      <th>0</th>\n",
       "      <td>1.570000e+18</td>\n",
       "      <td>53</td>\n",
       "      <td>1574069785</td>\n",
       "      <td>858138123</td>\n",
       "      <td>-0.137454</td>\n",
       "      <td>0.184408</td>\n",
       "      <td>0</td>\n",
       "      <td>1</td>\n",
       "    </tr>\n",
       "    <tr>\n",
       "      <th>1</th>\n",
       "      <td>1.570000e+18</td>\n",
       "      <td>54</td>\n",
       "      <td>1574069786</td>\n",
       "      <td>110338604</td>\n",
       "      <td>-0.251003</td>\n",
       "      <td>0.336746</td>\n",
       "      <td>0</td>\n",
       "      <td>1</td>\n",
       "    </tr>\n",
       "    <tr>\n",
       "      <th>2</th>\n",
       "      <td>1.570000e+18</td>\n",
       "      <td>55</td>\n",
       "      <td>1574069786</td>\n",
       "      <td>356408699</td>\n",
       "      <td>-0.107573</td>\n",
       "      <td>0.144320</td>\n",
       "      <td>0</td>\n",
       "      <td>1</td>\n",
       "    </tr>\n",
       "    <tr>\n",
       "      <th>3</th>\n",
       "      <td>1.570000e+18</td>\n",
       "      <td>56</td>\n",
       "      <td>1574069786</td>\n",
       "      <td>578747487</td>\n",
       "      <td>-0.155383</td>\n",
       "      <td>0.208462</td>\n",
       "      <td>0</td>\n",
       "      <td>1</td>\n",
       "    </tr>\n",
       "    <tr>\n",
       "      <th>4</th>\n",
       "      <td>1.570000e+18</td>\n",
       "      <td>57</td>\n",
       "      <td>1574069786</td>\n",
       "      <td>823320336</td>\n",
       "      <td>-0.011953</td>\n",
       "      <td>0.016036</td>\n",
       "      <td>0</td>\n",
       "      <td>1</td>\n",
       "    </tr>\n",
       "  </tbody>\n",
       "</table>\n",
       "</div>"
      ],
      "text/plain": [
       "   rosbagtimestamp  seq        secs      nsecs        xl        yl  zl  \\\n",
       "0     1.570000e+18   53  1574069785  858138123 -0.137454  0.184408   0   \n",
       "1     1.570000e+18   54  1574069786  110338604 -0.251003  0.336746   0   \n",
       "2     1.570000e+18   55  1574069786  356408699 -0.107573  0.144320   0   \n",
       "3     1.570000e+18   56  1574069786  578747487 -0.155383  0.208462   0   \n",
       "4     1.570000e+18   57  1574069786  823320336 -0.011953  0.016036   0   \n",
       "\n",
       "   normality  \n",
       "0          1  \n",
       "1          1  \n",
       "2          1  \n",
       "3          1  \n",
       "4          1  "
      ]
     },
     "execution_count": 4,
     "metadata": {},
     "output_type": "execute_result"
    }
   ],
   "source": [
    "\n",
    "ds = dataset\n",
    "ds.head()"
   ]
  },
  {
   "cell_type": "code",
   "execution_count": 7,
   "metadata": {
    "scrolled": true
   },
   "outputs": [],
   "source": [
    "x = ds.iloc[:,4:7]\n",
    "y = ds.iloc[:,7:8]\n",
    "x1 = x.iloc[:,0]\n",
    "x2 = x.iloc[:,1]\n"
   ]
  },
  {
   "cell_type": "code",
   "execution_count": 10,
   "metadata": {},
   "outputs": [
    {
     "data": {
      "image/png": "[encoded data removed]",
      "text/plain": [
       "<Figure size 432x288 with 1 Axes>"
      ]
     },
     "metadata": {
      "needs_background": "light"
     },
     "output_type": "display_data"
    }
   ],
   "source": [
    "# Actual plot for normal and abnormal dataset\n",
    "fig, ax = plt.subplots()\n",
    "colors = {0:'red', 1:'green'}\n",
    "ax.scatter(ds['xl'], ds['yl'], c=ds['normality'].apply(lambda x: colors[x]), marker = '^')\n",
    "plt.xlabel('x1')\n",
    "plt.ylabel('y1')\n",
    "plt.show()"
   ]
  },
  {
   "cell_type": "code",
   "execution_count": 11,
   "metadata": {
    "scrolled": true
   },
   "outputs": [],
   "source": [
    "from sklearn.preprocessing import LabelEncoder\n",
    "from sklearn.linear_model import SGDClassifier\n",
    "from sklearn.metrics import classification_report\n",
    "from sklearn.model_selection import train_test_split\n",
    "x_train,x_test,y_train,y_test=train_test_split(x,y,test_size=0.2,random_state=42)"
   ]
  },
  {
   "cell_type": "code",
   "execution_count": 12,
   "metadata": {},
   "outputs": [
    {
     "data": {
      "text/plain": [
       "KMeans(algorithm='auto', copy_x=True, init='k-means++', max_iter=300,\n",
       "       n_clusters=6, n_init=10, n_jobs=None, precompute_distances='auto',\n",
       "       random_state=None, tol=0.0001, verbose=0)"
      ]
     },
     "execution_count": 12,
     "metadata": {},
     "output_type": "execute_result"
    }
   ],
   "source": [
    "from sklearn.cluster import KMeans\n",
    "Kmean = KMeans(n_clusters=6)\n",
    "Kmean.fit(x_train)"
   ]
  },
  {
   "cell_type": "code",
   "execution_count": 13,
   "metadata": {},
   "outputs": [
    {
     "data": {
      "text/plain": [
       "array([[-0.08499796,  0.10860689,  0.        ],\n",
       "       [ 0.68475334,  1.54232588,  0.        ],\n",
       "       [-2.54429036, -0.57217753,  0.        ],\n",
       "       [-0.79633545,  1.03475244,  0.        ],\n",
       "       [-0.24553856,  0.32941525,  0.        ],\n",
       "       [ 0.44052667,  0.27363771,  0.        ]])"
      ]
     },
     "execution_count": 13,
     "metadata": {},
     "output_type": "execute_result"
    }
   ],
   "source": [
    "Kmean.cluster_centers_"
   ]
  },
  {
   "cell_type": "code",
   "execution_count": 14,
   "metadata": {},
   "outputs": [
    {
     "data": {
      "image/png": "[encoded data removed]",
      "text/plain": [
       "<Figure size 432x288 with 1 Axes>"
      ]
     },
     "metadata": {
      "needs_background": "light"
     },
     "output_type": "display_data"
    }
   ],
   "source": [
    "#plot after training.\n",
    "\n",
    "plt.scatter(x1,x2, s =40, c='b')\n",
    "plt.scatter(-0.08669009,  0.13345794, s=200, c='g', marker='s')\n",
    "plt.scatter(-0.35726778,  0.4751098, s=200, c='g', marker='s')\n",
    "plt.scatter(-2.54429036, -0.57217753, s=200, c='r', marker='s')\n",
    "plt.scatter(0.68102341,  1.11048659, s=200, c='r', marker='s')\n",
    "plt.scatter(-0.24553856,  0.32941525, s=200, c='g', marker='s')\n",
    "plt.scatter(0.44052667,  0.27363771, s=200, c='r', marker='s')\n",
    "plt.xlabel('x1')\n",
    "plt.ylabel('y1')\n",
    "plt.show()"
   ]
  },
  {
   "cell_type": "code",
   "execution_count": 70,
   "metadata": {
    "collapsed": true
   },
   "outputs": [
    {
     "data": {
      "text/plain": [
       "array([0, 0, 2, 0, 1, 3, 0, 0, 0, 4, 4, 0, 0, 0, 0, 0, 0, 0, 0, 0, 0, 0,\n",
       "       0, 4, 0, 0, 0, 0, 0, 5, 0, 4, 4, 0, 0, 0, 4, 0, 0, 0, 4, 5, 0, 0,\n",
       "       4, 0, 4, 0, 4, 0, 0, 0, 4, 4, 0, 0, 0, 4, 0, 4, 4, 0, 4, 0, 4, 0,\n",
       "       4, 4, 0, 0, 0, 4, 0, 0, 0, 0, 5, 4, 4, 4, 4, 0, 0, 0, 0, 0, 0, 0,\n",
       "       0, 0, 0, 0, 0, 0, 4, 0, 0, 0, 0, 0, 0, 0, 5, 0, 1, 0, 4, 0, 4, 4,\n",
       "       4, 0, 0, 0, 0, 5, 0, 4, 5, 0, 1, 0, 4, 0, 0, 0, 0, 4, 0, 0, 0, 0,\n",
       "       4, 0, 4, 0, 0, 4, 0, 0, 0, 0, 0, 0, 0, 4, 0, 0, 0, 4, 0, 0, 1, 0,\n",
       "       4, 0, 0, 4, 0, 0, 0, 0, 0, 0, 0, 0, 4, 0, 4, 0, 0, 0, 4, 0, 0, 0,\n",
       "       4, 1, 4, 0, 0, 0, 0, 5, 4, 4, 0, 0, 0, 0, 0, 4, 4, 0, 0, 0, 0, 0,\n",
       "       0, 4, 4, 0, 4, 0, 0, 0, 0, 0, 0, 4, 0, 0, 5, 0, 0, 0, 0, 0, 0, 5,\n",
       "       0, 5, 3, 4, 0, 4, 4, 0, 0, 4, 0, 0, 4, 0, 4, 0, 4, 0, 0, 0, 4, 0,\n",
       "       0, 0, 0, 0, 0, 2, 0, 0, 3, 0, 4, 0, 0, 4, 0, 0, 0, 4, 4, 4, 0, 4,\n",
       "       0, 0, 0, 0, 4, 0, 5, 0, 0, 0, 4, 0, 0, 4, 0, 0, 0, 0, 0, 0, 0, 4,\n",
       "       0, 3, 0])"
      ]
     },
     "execution_count": 70,
     "metadata": {},
     "output_type": "execute_result"
    }
   ],
   "source": [
    "Kmean.labels_"
   ]
  },
  {
   "cell_type": "code",
   "execution_count": 79,
   "metadata": {},
   "outputs": [],
   "source": [
    "sample_test=x_test\n",
    "#second_test=sample_test.reshape(1, -1)\n",
    "y_pred = Kmean.predict(sample_test)"
   ]
  },
  {
   "cell_type": "code",
   "execution_count": null,
   "metadata": {},
   "outputs": [],
   "source": []
  },
  {
   "cell_type": "code",
   "execution_count": null,
   "metadata": {},
   "outputs": [],
   "source": []
  }
 ],
 "metadata": {
  "kernelspec": {
   "display_name": "Python 3",
   "language": "python",
   "name": "python3"
  },
  "language_info": {
   "codemirror_mode": {
    "name": "ipython",
    "version": 3
   },
   "file_extension": ".py",
   "mimetype": "text/x-python",
   "name": "python",
   "nbconvert_exporter": "python",
   "pygments_lexer": "ipython3",
   "version": "3.7.3"
  }
 },
 "nbformat": 4,
 "nbformat_minor": 2
}
